{
 "cells": [
  {
   "cell_type": "code",
   "execution_count": 3,
   "id": "9cb62b97",
   "metadata": {},
   "outputs": [],
   "source": [
    "import numpy as np\n"
   ]
  },
  {
   "cell_type": "code",
   "execution_count": 18,
   "id": "c1b7f6c7",
   "metadata": {},
   "outputs": [
    {
     "name": "stdout",
     "output_type": "stream",
     "text": [
      "minmax column means: [352.875        2.85742188  33.046875   160.5       ]\n",
      "tetra column means: [442.78125     2.7421875  30.328125  115.5      ]\n",
      "The mean of tetra x1 is: 442.8, x2 is: 2.7, x3 is: 30.3, x4 is: 115.5\n",
      "The mean of minmax x1 is: 352.9, x2 is: 2.9, x3 is: 33.0, x4 is: 160.5\n"
     ]
    }
   ],
   "source": [
    "data = np.genfromtxt(fname='Results.txt', dtype='str')\n",
    "\n",
    "minmax_vals = []\n",
    "tetra_vals = []\n",
    "\n",
    "for row in data:\n",
    "    for i, tok in enumerate(row):\n",
    "        key = tok.lower()\n",
    "        if 'minmax' in key:\n",
    "            nums = []\n",
    "            j = i + 1\n",
    "            while j < len(row):\n",
    "                s = row[j].strip(\"[](), '\\\"\")\n",
    "                try:\n",
    "                    nums.append(float(s))\n",
    "                except:\n",
    "                    pass\n",
    "                if ')' in row[j]:\n",
    "                    break\n",
    "                j += 1\n",
    "            if nums:\n",
    "                minmax_vals.append(nums)\n",
    "        if 'tetra' in key:\n",
    "            nums = []\n",
    "            j = i + 1\n",
    "            while j < len(row):\n",
    "                s = row[j].strip(\"[](), '\\\"\")\n",
    "                try:\n",
    "                    nums.append(float(s))\n",
    "                except:\n",
    "                    pass\n",
    "                if ')' in row[j]:\n",
    "                    break\n",
    "                j += 1\n",
    "            if nums:\n",
    "                tetra_vals.append(nums)\n",
    "\n",
    "minmax_arr = np.array(minmax_vals, dtype=float)\n",
    "tetra_arr = np.array(tetra_vals, dtype=float)\n",
    "\n",
    "print(\"minmax column means:\", np.mean(minmax_arr, axis=0))\n",
    "print(\"tetra column means:\", np.mean(tetra_arr, axis=0))\n",
    "\n",
    "tetra_x1 = tetra_arr[:, 0]\n",
    "tetra_x2 = tetra_arr[:, 1]\n",
    "tetra_x3 = tetra_arr[:, 2]\n",
    "tetra_x4 = tetra_arr[:, 3]\n",
    "\n",
    "minmax_x1 = minmax_arr[:, 0]\n",
    "minmax_x2 = minmax_arr[:, 1]\n",
    "minmax_x3 = minmax_arr[:, 2]\n",
    "minmax_x4 = minmax_arr[:, 3]\n",
    "\n",
    "print(f'The mean of tetra x1 is: {np.mean(tetra_x1):.1f}, x2 is: {np.mean(tetra_x2):.1f}, x3 is: {np.mean(tetra_x3):.1f}, x4 is: {np.mean(tetra_x4):.1f}')\n",
    "print(f'The mean of minmax x1 is: {np.mean(minmax_x1):.1f}, x2 is: {np.mean(minmax_x2):.1f}, x3 is: {np.mean(minmax_x3):.1f}, x4 is: {np.mean(minmax_x4):.1f}')"
   ]
  },
  {
   "cell_type": "code",
   "execution_count": null,
   "id": "679b8f28",
   "metadata": {},
   "outputs": [],
   "source": []
  }
 ],
 "metadata": {
  "kernelspec": {
   "display_name": "mude-base",
   "language": "python",
   "name": "python3"
  },
  "language_info": {
   "codemirror_mode": {
    "name": "ipython",
    "version": 3
   },
   "file_extension": ".py",
   "mimetype": "text/x-python",
   "name": "python",
   "nbconvert_exporter": "python",
   "pygments_lexer": "ipython3",
   "version": "3.12.11"
  }
 },
 "nbformat": 4,
 "nbformat_minor": 5
}
